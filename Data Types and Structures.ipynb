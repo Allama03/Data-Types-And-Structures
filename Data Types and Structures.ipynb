{
 "cells": [
  {
   "cell_type": "markdown",
   "id": "0b12e3c0-21b1-4f04-be60-e2f16a6c5993",
   "metadata": {},
   "source": [
    "# Data Types and Structures"
   ]
  },
  {
   "cell_type": "markdown",
   "id": "b0196ae4-5c73-4543-a8ec-f5303490e9cc",
   "metadata": {},
   "source": [
    "## Data Types and Structures Questions"
   ]
  },
  {
   "cell_type": "markdown",
   "id": "84a52f11-9a80-4066-9d91-a9844aae77b8",
   "metadata": {},
   "source": [
    "1. What are data structures, and why are they important?\n",
    "   - Data structures are specialized formats for organizing, processing, and storing data. They're important because they enable efficient data management and manipulation.\n",
    "\n",
    "2. Explain the difference between mutable and immutable data types with examples.\n",
    "   - Mutable data types can be changed after creation, like lists. Immutable types cannot be altered, such as tuples and strings.\n",
    "\n",
    "3. What are the main differences between lists and tuples in Python?\n",
    "   - Lists are mutable and can be changed, while tuples are immutable and cannot be modified. Additionally, lists use square brackets, whereas tuples use parentheses.\n",
    "\n",
    "4. Describe how dictionaries store data.\n",
    "   - Dictionaries store data in key-value pairs, allowing quick access using unique keys. They use hash tables for efficient data lookup.\n",
    "\n",
    "5. Why might you use a set instead of a list in Python?\n",
    "   - Sets are used for storing unique items and eliminating duplicates, whereas lists allow duplicates and maintain order.\n",
    "\n",
    "6. What is a string in Python, and how is it different from a list?\n",
    "   - A string is a sequence of characters, while a list can contain different types of items, including strings. Strings are immutable, while lists are mutable.\n",
    "\n",
    "7. How do tuples ensure data integrity in Python?\n",
    "   - Tuples maintain data integrity by being immutable, meaning once created, their values cannot be changed, preventing accidental data alterations.\n",
    "\n",
    "8. What is a hash table, and how does it relate to dictionaries in Python?\n",
    "   - A hash table is a data structure that maps keys to values, enabling quick data retrieval. Python dictionaries are implemented using hash tables.\n",
    "\n",
    "9. Can lists contain different data types in Python?\n",
    "   - Yes, lists in Python can hold items of different data types, such as integers, strings, and even other lists.\n",
    "\n",
    "10. Explain why strings are immutable in Python.\n",
    "    - Strings are immutable to protect their state and ensure consistent behavior, which is important for performance and memory management.\n",
    "\n",
    "11. What advantages do dictionaries offer over lists for certain tasks?\n",
    "    - Dictionaries provide faster access through keys and eliminate duplicates, making them ideal for tasks requiring unique identifiers and quick lookups.\n",
    "\n",
    "12. Describe a scenario where a tuple would be preferable over a list.\n",
    "    - Using a tuple is preferable when you need a fixed collection of values that shouldn’t change, like coordinates (x, y).\n",
    "\n",
    "13. How do sets handle duplicate values in Python?\n",
    "    - Sets automatically eliminate duplicate values, ensuring that all items are unique upon insertion.\n",
    "\n",
    "14. How does the “in” keyword work differently for lists and dictionaries?\n",
    "    - In lists, “in” checks for the presence of a value, while in dictionaries, it checks for the existence of keys.\n",
    "\n",
    "15. Can you modify the elements of a tuple? Explain why or why not.\n",
    "    - No, you cannot modify tuple elements since they are immutable, ensuring their integrity and stability throughout the program.\n",
    "\n",
    "16. What is a nested dictionary, and give an example of its use cases?\n",
    "    -A nested dictionary is a dictionary that contains other dictionaries as its values. This structure allows for organizing data in a hierarchical manner. \n",
    "\n",
    "17. Describe the time complexity of accessing elements in a dictionary.\n",
    "    - Accessing elements in a dictionary has an average time complexity of O(1), making it very efficient for lookups.\n",
    "\n",
    "18. In what situations are lists preferred over dictionaries?\n",
    "    - Lists are preferred for ordered collections of items, especially when duplicates are allowed, or when sequence matters.\n",
    "\n",
    "19. Why are dictionaries considered unordered, and how does that affect data retrieval?\n",
    "    - Dictionaries do not maintain the order of items, which means data retrieval relies on key lookups rather than positional access.\n",
    "\n",
    "20. Explain the difference between a list and a dictionary in terms of data retrieval.\n",
    "    - Lists retrieve data by index position, while dictionaries retrieve data by key, allowing for faster searches."
   ]
  },
  {
   "cell_type": "markdown",
   "id": "4ef596db-1377-4603-a2b7-95d49120cc25",
   "metadata": {},
   "source": [
    "## Practical Questions"
   ]
  },
  {
   "cell_type": "code",
   "execution_count": 87,
   "id": "eb3fac43-616c-4c3f-a2cd-4b9909108d17",
   "metadata": {},
   "outputs": [
    {
     "name": "stdout",
     "output_type": "stream",
     "text": [
      "Md Allama Akbal\n"
     ]
    }
   ],
   "source": [
    "1. # Write a code to create a string with your name and print it.\n",
    "\n",
    "name = \"Md Allama Akbal\"  # Replace \"Your Name\" with your actual name\n",
    "print(name)"
   ]
  },
  {
   "cell_type": "code",
   "execution_count": 88,
   "id": "e18aced1-4cdf-4a06-8b88-4711edd31c5c",
   "metadata": {},
   "outputs": [
    {
     "data": {
      "text/plain": [
       "11"
      ]
     },
     "execution_count": 88,
     "metadata": {},
     "output_type": "execute_result"
    }
   ],
   "source": [
    "2. # Write a code to find the length of the string \"Hello World\". \n",
    "\n",
    "length = (\"Hello World\")\n",
    "len(length)\n"
   ]
  },
  {
   "cell_type": "code",
   "execution_count": 89,
   "id": "1560f329-0603-43ec-ba80-c274da808427",
   "metadata": {},
   "outputs": [
    {
     "data": {
      "text/plain": [
       "'Pyt'"
      ]
     },
     "execution_count": 89,
     "metadata": {},
     "output_type": "execute_result"
    }
   ],
   "source": [
    "3. # Write a code to slice the first 3 characters from the string \"Python Programming\". \n",
    "\n",
    "sliced_string = \"Python Programming\"\n",
    "sliced_string[0:3]"
   ]
  },
  {
   "cell_type": "code",
   "execution_count": 90,
   "id": "19641172-0382-4e80-80ad-450b6f1c46ea",
   "metadata": {},
   "outputs": [
    {
     "data": {
      "text/plain": [
       "'HELLO'"
      ]
     },
     "execution_count": 90,
     "metadata": {},
     "output_type": "execute_result"
    }
   ],
   "source": [
    "4. # Write a code to convert the string \"hello\" to uppercase. \n",
    "\n",
    "upper_string = \"hello\"\n",
    "upper_string.upper()\n"
   ]
  },
  {
   "cell_type": "code",
   "execution_count": 91,
   "id": "f9fdfba2-bc31-42ca-b0b0-f3258ee3e10a",
   "metadata": {},
   "outputs": [
    {
     "name": "stdout",
     "output_type": "stream",
     "text": [
      "I like orange\n"
     ]
    }
   ],
   "source": [
    "5. # Write a code to replace the word \"apple\" with \"orange\" in the string \"I like apple\". \n",
    "\n",
    "orignal_string = \"I like apple\"\n",
    "new_string = orignal_string.replace(\"apple\",\"orange\")\n",
    "print(new_string)"
   ]
  },
  {
   "cell_type": "code",
   "execution_count": 92,
   "id": "a4d537f6-9027-4287-bf05-7ce386d034f8",
   "metadata": {},
   "outputs": [
    {
     "name": "stdout",
     "output_type": "stream",
     "text": [
      "[1, 2, 3, 4, 4, 5]\n"
     ]
    }
   ],
   "source": [
    "6. # Write a code to create a list with numbers 1 to 5 and print it. \n",
    "\n",
    "num_list = [1,2,3,4,4,5]\n",
    "print(num_list)"
   ]
  },
  {
   "cell_type": "code",
   "execution_count": 93,
   "id": "ceda9cfb-bd2e-4d19-82ee-e581eecc79d8",
   "metadata": {},
   "outputs": [
    {
     "name": "stdout",
     "output_type": "stream",
     "text": [
      "[1, 2, 3, 4, 10]\n"
     ]
    }
   ],
   "source": [
    "7. # Write a code to append the number 10 to the list [1, 2, 3, 4]. \n",
    "\n",
    "my_list = [1,2,3,4]\n",
    "my_list.append(10)\n",
    "print(my_list)"
   ]
  },
  {
   "cell_type": "code",
   "execution_count": 94,
   "id": "f1e5b782-cf1a-40b2-a244-bc27cb408c8e",
   "metadata": {},
   "outputs": [
    {
     "name": "stdout",
     "output_type": "stream",
     "text": [
      "[1, 2, 4, 5]\n"
     ]
    }
   ],
   "source": [
    "8. # Write a code to remove the number 3 from the list [1, 2, 3, 4, 5]. \n",
    "\n",
    "num_list2 = [1,2,3,4,5]\n",
    "num_list2.remove(3)\n",
    "print(num_list2)"
   ]
  },
  {
   "cell_type": "code",
   "execution_count": 95,
   "id": "77208a91-1796-4044-ad3a-8a2c2f0e34bc",
   "metadata": {},
   "outputs": [
    {
     "data": {
      "text/plain": [
       "'b'"
      ]
     },
     "execution_count": 95,
     "metadata": {},
     "output_type": "execute_result"
    }
   ],
   "source": [
    "9. # Write a code to access the second element in the list ['a', 'b', 'c', 'd']. \n",
    "\n",
    "nw_list = ['a', 'b', 'c', 'd']  # Index 1 is the second element\n",
    "nw_list[1]"
   ]
  },
  {
   "cell_type": "code",
   "execution_count": 96,
   "id": "e14bd01c-b8a4-4c47-848d-8c66125ea632",
   "metadata": {},
   "outputs": [
    {
     "data": {
      "text/plain": [
       "[50, 40, 30, 20, 10]"
      ]
     },
     "execution_count": 96,
     "metadata": {},
     "output_type": "execute_result"
    }
   ],
   "source": [
    "10. # Write a code to reverse the list [10, 20, 30, 40, 50].\n",
    "\n",
    "new_list =  [10, 20, 30, 40, 50]\n",
    "new_list[ : :-1]"
   ]
  },
  {
   "cell_type": "code",
   "execution_count": 97,
   "id": "3e8cb9aa-90c4-42f8-be73-d282d47262d5",
   "metadata": {},
   "outputs": [
    {
     "name": "stdout",
     "output_type": "stream",
     "text": [
      "(100, 200, 300)\n"
     ]
    }
   ],
   "source": [
    "11. #  Write a code to create a tuple with the elements 100, 200, 300 and print it. \n",
    "\n",
    "my_tuple = (100,200,300)\n",
    "print(my_tuple)"
   ]
  },
  {
   "cell_type": "code",
   "execution_count": 98,
   "id": "f902e831-8f66-48b5-9317-3aed567920ee",
   "metadata": {},
   "outputs": [
    {
     "data": {
      "text/plain": [
       "('green', 'blue', 'yellow')"
      ]
     },
     "execution_count": 98,
     "metadata": {},
     "output_type": "execute_result"
    }
   ],
   "source": [
    "12. #  Write a code to access the second-to-last element of the tuple ('red', 'green', 'blue', 'yellow'). \n",
    "\n",
    "colors = ('red', 'green', 'blue', 'yellow') \n",
    "colors[1:]"
   ]
  },
  {
   "cell_type": "code",
   "execution_count": 99,
   "id": "68f538ad-db98-40fe-913c-db56907db44c",
   "metadata": {},
   "outputs": [
    {
     "data": {
      "text/plain": [
       "5"
      ]
     },
     "execution_count": 99,
     "metadata": {},
     "output_type": "execute_result"
    }
   ],
   "source": [
    "13. # Write a code to find the minimum number in the tuple (10, 20, 5, 15). \n",
    "\n",
    "tuple2 = (10, 20, 5, 15)\n",
    "min(tuple2)"
   ]
  },
  {
   "cell_type": "code",
   "execution_count": 100,
   "id": "8e2a6c81-4d96-4fe4-9cb4-9da862d6b26c",
   "metadata": {},
   "outputs": [
    {
     "data": {
      "text/plain": [
       "1"
      ]
     },
     "execution_count": 100,
     "metadata": {},
     "output_type": "execute_result"
    }
   ],
   "source": [
    "14. #  Write a code to find the index of the element \"cat\" in the tuple ('dog', 'cat', 'rabbit'). \n",
    "\n",
    "animals = ('dog', 'cat', 'rabbit') \n",
    "animals.index(\"cat\")"
   ]
  },
  {
   "cell_type": "code",
   "execution_count": 101,
   "id": "ddd89add-bb7c-4ac7-be9b-fb7c71dd5203",
   "metadata": {},
   "outputs": [
    {
     "name": "stdout",
     "output_type": "stream",
     "text": [
      "kiwi is not persent in fruits\n"
     ]
    }
   ],
   "source": [
    "15. #  Write a code to create a tuple containing three different fruits and check if \"kiwi\" is in it. \n",
    "\n",
    "fruits = (\"mango\",\"apple\",\"banana\")\n",
    "search = \"kiwi\"\n",
    "if search in fruits:\n",
    "    print(\"kiwi is persent in fruits\")\n",
    "else:\n",
    "    print(\"kiwi is not persent in fruits\")"
   ]
  },
  {
   "cell_type": "code",
   "execution_count": 102,
   "id": "9655945b-f678-4583-8e47-76ac715cba79",
   "metadata": {},
   "outputs": [
    {
     "name": "stdout",
     "output_type": "stream",
     "text": [
      "{'c', 'b', 'a'}\n"
     ]
    }
   ],
   "source": [
    "16. # Write a code to create a set with the elements 'a', 'b', 'c' and print it. \n",
    "\n",
    "my_set = {\"a\",\"b\",\"c\"}\n",
    "print(my_set)"
   ]
  },
  {
   "cell_type": "code",
   "execution_count": 103,
   "id": "39c6667d-ebc0-4a4c-809e-46cf65a79180",
   "metadata": {},
   "outputs": [],
   "source": [
    "17. # Write a code to clear all elements from the set {1, 2, 3, 4, 5}. \n",
    "\n",
    "nw_set = {1, 2, 3, 4, 5} \n",
    "nw_set.clear()"
   ]
  },
  {
   "cell_type": "code",
   "execution_count": 104,
   "id": "be84c359-66bd-4ea8-88b9-f0a8093661b2",
   "metadata": {},
   "outputs": [
    {
     "name": "stdout",
     "output_type": "stream",
     "text": [
      "{1, 2, 3}\n"
     ]
    }
   ],
   "source": [
    "18. #  Write a code to remove the element 4 from the set {1, 2, 3, 4}. \n",
    "\n",
    "my_set2 = {1, 2, 3, 4} \n",
    "my_set2.remove(4)\n",
    "print(my_set2)"
   ]
  },
  {
   "cell_type": "code",
   "execution_count": 105,
   "id": "a2088f84-7ab3-4ebd-a40c-fba8578878e2",
   "metadata": {},
   "outputs": [
    {
     "name": "stdout",
     "output_type": "stream",
     "text": [
      "{1, 2, 3, 4, 5}\n"
     ]
    }
   ],
   "source": [
    "19. #  Write a code to find the union of two sets {1, 2, 3} and {3, 4, 5}. \n",
    "\n",
    "set1 = {1, 2, 3}\n",
    "set2 = {3, 4, 5}\n",
    "union_set = set1.union(set2)\n",
    "print(union_set)"
   ]
  },
  {
   "cell_type": "code",
   "execution_count": 106,
   "id": "24fec05c-99d8-4296-ad57-418fb063c48b",
   "metadata": {},
   "outputs": [
    {
     "name": "stdout",
     "output_type": "stream",
     "text": [
      "{2, 3}\n"
     ]
    }
   ],
   "source": [
    "20. # Write a code to find the intersection of two sets {1, 2, 3} and {2, 3, 4}. \n",
    "\n",
    "set_1 = {1, 2, 3}\n",
    "set_2 = {2, 3, 4}\n",
    "intersection_set = set_1.intersection(set_2)\n",
    "print(intersection_set)"
   ]
  },
  {
   "cell_type": "code",
   "execution_count": 107,
   "id": "a7b411c3-a649-42f7-b129-cbc12ee29653",
   "metadata": {},
   "outputs": [
    {
     "name": "stdout",
     "output_type": "stream",
     "text": [
      "{'name': 'Md Allama Akbal', 'age': 21, 'city': 'New Delhi'}\n"
     ]
    }
   ],
   "source": [
    "21. #  Write a code to create a dictionary with the keys \"name\", \"age\", and \"city\", and print it. \n",
    "\n",
    "my_dict = {\"name\" : \"Md Allama Akbal\", \"age\" : 21, \"city\" : \"New Delhi\"}\n",
    "print(my_dict)"
   ]
  },
  {
   "cell_type": "code",
   "execution_count": 108,
   "id": "bbbd0a30-d515-4edb-9240-4004ab3c3f97",
   "metadata": {},
   "outputs": [
    {
     "name": "stdout",
     "output_type": "stream",
     "text": [
      "{'name': 'john', 'age': 25, 'country': 'USA'}\n"
     ]
    }
   ],
   "source": [
    "22. # Write a code to add a new key-value pair \"country\": \"USA\" to the dictionary {'name': 'John', 'age': 25}. \n",
    "\n",
    "my_dict2 = {\"name\" : \"john\", \"age\" : 25}\n",
    "\n",
    "my_dict2[\"country\"] = \"USA\"\n",
    "print(my_dict2)"
   ]
  },
  {
   "cell_type": "code",
   "execution_count": 109,
   "id": "4a0cc0b6-f151-4968-b213-5e3545eaf9b0",
   "metadata": {},
   "outputs": [
    {
     "data": {
      "text/plain": [
       "'Alice'"
      ]
     },
     "execution_count": 109,
     "metadata": {},
     "output_type": "execute_result"
    }
   ],
   "source": [
    "23. # Write a code to access the value associated with the key \"name\" in the dictionary {'name': 'Alice', 'age': 30}. \n",
    "\n",
    "nw_dict = {'name': 'Alice', 'age': 30} \n",
    "nw_dict[\"name\"]"
   ]
  },
  {
   "cell_type": "code",
   "execution_count": 110,
   "id": "90e91f1d-bf3a-46cf-bf13-dda6ca5df7ab",
   "metadata": {},
   "outputs": [
    {
     "name": "stdout",
     "output_type": "stream",
     "text": [
      "{'name': 'Bob', 'city': 'New York'}\n"
     ]
    }
   ],
   "source": [
    "24. #  Write a code to remove the key \"age\" from the dictionary {'name': 'Bob', 'age': 22, 'city': 'New York'}. \n",
    "\n",
    "my_dict3 = {'name': 'Bob', 'age': 22, 'city': 'New York'} \n",
    "my_dict3.pop(\"age\")\n",
    "print(my_dict3)"
   ]
  },
  {
   "cell_type": "code",
   "execution_count": 111,
   "id": "8d756179-a940-4345-aac6-6b876f7b8fa3",
   "metadata": {},
   "outputs": [
    {
     "name": "stdout",
     "output_type": "stream",
     "text": [
      "City Exists\n"
     ]
    }
   ],
   "source": [
    "25. # Write a code to check if the key \"city\" exists in the dictionary {'name': 'Alice', 'city': 'Paris'}. \n",
    "\n",
    "my_dict4 = {'name': 'Alice', 'city': 'Paris'} \n",
    "search = \"city\"\n",
    "if search in my_dict4: \n",
    "    print(\"City Exists\")\n",
    "else:\n",
    "    print(\"City Not Exists\")"
   ]
  },
  {
   "cell_type": "code",
   "execution_count": 112,
   "id": "bbeca276-7674-4930-8cd6-c57e4e3fc257",
   "metadata": {},
   "outputs": [
    {
     "name": "stdout",
     "output_type": "stream",
     "text": [
      "([1, 2, 3, 'PWskills', (3+5j)], (1, 2, 3, 4, 5), {'name': 'Md Allama Akbal'})\n"
     ]
    }
   ],
   "source": [
    "26. # Write a code to create a list, a tuple, and a dictionary, and print them all. \n",
    "\n",
    "my_list1 = [1,2,3, \"PWskills\", 3+5j]\n",
    "my_tuple1 = (1,2,3,4,5)\n",
    "my_dict_1 = {\"name\" : \"Md Allama Akbal\"}\n",
    "\n",
    "table = my_list1, my_tuple1, my_dict_1\n",
    "print(table)"
   ]
  },
  {
   "cell_type": "code",
   "execution_count": 137,
   "id": "7db6056b-cc8e-4e81-9278-322d7b2837d8",
   "metadata": {},
   "outputs": [
    {
     "name": "stdout",
     "output_type": "stream",
     "text": [
      "[2, 10, 73, 80, 88]\n"
     ]
    }
   ],
   "source": [
    "27. # Write a code to create a list of 5 random numbers between 1 and 100, sort it in ascending order, and print the result.(replaced). \n",
    "\n",
    "import random\n",
    "\n",
    "random_numbers = random.sample(range(1, 101), 5)  # 5 unique random numbers\n",
    "random_numbers.sort()\n",
    "print(random_numbers)  # Output will vary, e.g., [10, 25, 30, 45, 85]\n"
   ]
  },
  {
   "cell_type": "code",
   "execution_count": 138,
   "id": "f9a8d39f-00ec-4eed-9180-09f5a4dc17e9",
   "metadata": {},
   "outputs": [
    {
     "data": {
      "text/plain": [
       "'Ajay Sir'"
      ]
     },
     "execution_count": 138,
     "metadata": {},
     "output_type": "execute_result"
    }
   ],
   "source": [
    "28. # Write a code to create a list with strings and print the element at the third index. \n",
    "\n",
    "my_list2 = [\"PwSkills\", \"Data Science\", \"Ajay Sir\"]\n",
    "my_list2[2]"
   ]
  },
  {
   "cell_type": "code",
   "execution_count": 139,
   "id": "7c281e8d-fb6f-4455-9f7d-2e68521aa5e0",
   "metadata": {},
   "outputs": [
    {
     "name": "stdout",
     "output_type": "stream",
     "text": [
      "{'name': 'pecock', 'place': 'nest'}\n"
     ]
    }
   ],
   "source": [
    "29. # Write a code to combine two dictionaries into one and print the result. \n",
    "\n",
    "# Define two dictionaries\n",
    "birds = {\"name\" : \"pecock\"}\n",
    "birds1 = {\"place\" : \"nest\"}\n",
    "\n",
    "# Combine dictionaries using the update method\n",
    "combined_dict = birds.copy()     # Make a copy of birds\n",
    "combined_dict.update(birds1)      # Update with birds1\n",
    "\n",
    "# Print the result\n",
    "print(combined_dict)"
   ]
  },
  {
   "cell_type": "code",
   "execution_count": 140,
   "id": "555c0627-2e67-479e-a9ec-78f731ce78e8",
   "metadata": {},
   "outputs": [
    {
     "name": "stdout",
     "output_type": "stream",
     "text": [
      "{'banana', 'orange', 'apple'}\n"
     ]
    }
   ],
   "source": [
    "30. # Write a code to convert a list of strings into a set. \n",
    "\n",
    "# Sample list of strings\n",
    "string_list = [\"apple\", \"banana\", \"orange\", \"apple\", \"banana\"]\n",
    "\n",
    "# Convert the list to a set\n",
    "string_set = set(string_list)\n",
    "\n",
    "# Print the resulting set\n",
    "print(string_set)"
   ]
  },
  {
   "cell_type": "code",
   "execution_count": null,
   "id": "26da6232-a365-47af-ad26-f5a3f45f7188",
   "metadata": {},
   "outputs": [],
   "source": []
  },
  {
   "cell_type": "code",
   "execution_count": null,
   "id": "91ac716c-c058-463a-ad36-9360f11c1ffe",
   "metadata": {},
   "outputs": [],
   "source": []
  },
  {
   "cell_type": "code",
   "execution_count": null,
   "id": "ceac2459-2fb7-4221-bb33-15a4f58213ca",
   "metadata": {},
   "outputs": [],
   "source": []
  },
  {
   "cell_type": "code",
   "execution_count": null,
   "id": "36cb9f86-25a7-4c48-a903-2b1d28414724",
   "metadata": {},
   "outputs": [],
   "source": []
  }
 ],
 "metadata": {
  "kernelspec": {
   "display_name": "Python 3 (ipykernel)",
   "language": "python",
   "name": "python3"
  },
  "language_info": {
   "codemirror_mode": {
    "name": "ipython",
    "version": 3
   },
   "file_extension": ".py",
   "mimetype": "text/x-python",
   "name": "python",
   "nbconvert_exporter": "python",
   "pygments_lexer": "ipython3",
   "version": "3.12.7"
  }
 },
 "nbformat": 4,
 "nbformat_minor": 5
}
